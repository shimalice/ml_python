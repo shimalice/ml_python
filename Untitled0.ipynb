{
  "nbformat": 4,
  "nbformat_minor": 0,
  "metadata": {
    "colab": {
      "name": "Untitled0.ipynb",
      "version": "0.3.2",
      "provenance": [],
      "collapsed_sections": [],
      "include_colab_link": true
    },
    "kernelspec": {
      "name": "python3",
      "display_name": "Python 3"
    },
    "accelerator": "GPU"
  },
  "cells": [
    {
      "cell_type": "markdown",
      "metadata": {
        "id": "view-in-github",
        "colab_type": "text"
      },
      "source": [
        "[View in Colaboratory](https://colab.research.google.com/github/shimalice/ml_python/blob/master/Untitled0.ipynb)"
      ]
    },
    {
      "metadata": {
        "id": "MurXcLO7Ure7",
        "colab_type": "code",
        "colab": {
          "base_uri": "https://localhost:8080/",
          "height": 918
        },
        "outputId": "9a94604d-adb0-4661-c9a4-b3fdb1059e48"
      },
      "cell_type": "code",
      "source": [
        "!apt-get -qq -y install libcusparse8.0 libnvrtc8.0 libnvtoolsext1 > /dev/null\n",
        "!ln -snf /usr/lib/x86_64-linux-gnu/libnvrtc-builtins.so.8.0 /usr/lib/x86_64-linux-gnu/libnvrtc-builtins.so\n",
        "\n",
        "!apt-get -qq -y install xvfb freeglut3-dev ffmpeg> /dev/null\n",
        "!pip install pyglet\n",
        "!pip install pyopengl\n",
        "!pip install pyvirtualdisplay\n",
        "!pip install gym[classic_control]"
      ],
      "execution_count": 1,
      "outputs": [
        {
          "output_type": "stream",
          "text": [
            "\n",
            "y\n",
            "a\n",
            "h\n",
            "a\n",
            "Extracting templates from packages: 100%\n",
            "Collecting pyglet\n",
            "\u001b[?25l  Downloading https://files.pythonhosted.org/packages/1c/fc/dad5eaaab68f0c21e2f906a94ddb98175662cc5a654eee404d59554ce0fa/pyglet-1.3.2-py2.py3-none-any.whl (1.0MB)\n",
            "\u001b[K    100% |████████████████████████████████| 1.0MB 8.5MB/s \n",
            "\u001b[?25hRequirement already satisfied: future in /usr/local/lib/python3.6/dist-packages (from pyglet) (0.16.0)\n",
            "Installing collected packages: pyglet\n",
            "Successfully installed pyglet-1.3.2\n",
            "Collecting pyopengl\n",
            "\u001b[?25l  Downloading https://files.pythonhosted.org/packages/9c/1d/4544708aaa89f26c97cc09450bb333a23724a320923e74d73e028b3560f9/PyOpenGL-3.1.0.tar.gz (1.2MB)\n",
            "\u001b[K    100% |████████████████████████████████| 1.2MB 9.3MB/s \n",
            "\u001b[?25hBuilding wheels for collected packages: pyopengl\n",
            "  Running setup.py bdist_wheel for pyopengl ... \u001b[?25l-\b \b\\\b \b|\b \b/\b \b-\b \b\\\b \b|\b \b/\b \b-\b \b\\\b \b|\b \b/\b \b-\b \b\\\b \b|\b \b/\b \b-\b \bdone\n",
            "\u001b[?25h  Stored in directory: /root/.cache/pip/wheels/6c/00/7f/1dd736f380848720ad79a1a1de5272e0d3f79c15a42968fb58\n",
            "Successfully built pyopengl\n",
            "Installing collected packages: pyopengl\n",
            "Successfully installed pyopengl-3.1.0\n",
            "Collecting pyvirtualdisplay\n",
            "  Downloading https://files.pythonhosted.org/packages/39/37/f285403a09cc261c56b6574baace1bdcf4b8c7428c8a7239cbba137bc0eb/PyVirtualDisplay-0.2.1.tar.gz\n",
            "Collecting EasyProcess (from pyvirtualdisplay)\n",
            "  Downloading https://files.pythonhosted.org/packages/0d/f1/d2de7591e7dfc164d286fa16f051e6c0cf3141825586c3b04ae7cda7ac0f/EasyProcess-0.2.3.tar.gz\n",
            "Building wheels for collected packages: pyvirtualdisplay, EasyProcess\n",
            "  Running setup.py bdist_wheel for pyvirtualdisplay ... \u001b[?25l-\b \b\\\b \b|\b \b/\b \b-\b \bdone\n",
            "\u001b[?25h  Stored in directory: /root/.cache/pip/wheels/d1/8c/16/1c64227974ae29c687e4cc30fd691d5c0fd40f54446dde99da\n",
            "  Running setup.py bdist_wheel for EasyProcess ... \u001b[?25l-\b \b\\\b \b|\b \b/\b \b-\b \bdone\n",
            "\u001b[?25h  Stored in directory: /root/.cache/pip/wheels/b4/c6/e3/c163b04029d8fccfd54b809802640c1af587a01be8d7a04e1a\n",
            "Successfully built pyvirtualdisplay EasyProcess\n",
            "Installing collected packages: EasyProcess, pyvirtualdisplay\n",
            "Successfully installed EasyProcess-0.2.3 pyvirtualdisplay-0.2.1\n",
            "Collecting gym[classic_control]\n",
            "\u001b[?25l  Downloading https://files.pythonhosted.org/packages/c3/44/3a63e8b87f642db49ac81239620e68df8cfae223dcfda4f8508aec88d204/gym-0.10.8.tar.gz (1.5MB)\n",
            "\u001b[K    100% |████████████████████████████████| 1.5MB 8.9MB/s \n",
            "\u001b[?25hRequirement already satisfied: scipy in /usr/local/lib/python3.6/dist-packages (from gym[classic_control]) (0.19.1)\n",
            "Requirement already satisfied: numpy>=1.10.4 in /usr/local/lib/python3.6/dist-packages (from gym[classic_control]) (1.14.6)\n",
            "Requirement already satisfied: requests>=2.0 in /usr/local/lib/python3.6/dist-packages (from gym[classic_control]) (2.18.4)\n",
            "Requirement already satisfied: six in /usr/local/lib/python3.6/dist-packages (from gym[classic_control]) (1.11.0)\n",
            "Requirement already satisfied: pyglet>=1.2.0 in /usr/local/lib/python3.6/dist-packages (from gym[classic_control]) (1.3.2)\n",
            "Requirement already satisfied: PyOpenGL in /usr/local/lib/python3.6/dist-packages (from gym[classic_control]) (3.1.0)\n",
            "Requirement already satisfied: chardet<3.1.0,>=3.0.2 in /usr/local/lib/python3.6/dist-packages (from requests>=2.0->gym[classic_control]) (3.0.4)\n",
            "Requirement already satisfied: idna<2.7,>=2.5 in /usr/local/lib/python3.6/dist-packages (from requests>=2.0->gym[classic_control]) (2.6)\n",
            "Requirement already satisfied: urllib3<1.23,>=1.21.1 in /usr/local/lib/python3.6/dist-packages (from requests>=2.0->gym[classic_control]) (1.22)\n",
            "Requirement already satisfied: certifi>=2017.4.17 in /usr/local/lib/python3.6/dist-packages (from requests>=2.0->gym[classic_control]) (2018.8.24)\n",
            "Requirement already satisfied: future in /usr/local/lib/python3.6/dist-packages (from pyglet>=1.2.0->gym[classic_control]) (0.16.0)\n",
            "Building wheels for collected packages: gym\n",
            "  Running setup.py bdist_wheel for gym ... \u001b[?25l-\b \b\\\b \b|\b \b/\b \bdone\n",
            "\u001b[?25h  Stored in directory: /root/.cache/pip/wheels/ea/ec/dd/33bcc8801d345f0b640fced8a0864a7c8474828564bc5ccf70\n",
            "Successfully built gym\n",
            "Installing collected packages: gym\n",
            "Successfully installed gym-0.10.8\n"
          ],
          "name": "stdout"
        }
      ]
    },
    {
      "metadata": {
        "id": "CpyTwmY3UuGw",
        "colab_type": "code",
        "colab": {}
      },
      "cell_type": "code",
      "source": [
        "from pyvirtualdisplay import Display\n",
        "display = Display(visible=0, size=(1024, 768))\n",
        "display.start()\n",
        "import os\n",
        "os.environ[\"DISPLAY\"] = \":\" + str(display.display) + \".\" + str(display.screen)"
      ],
      "execution_count": 0,
      "outputs": []
    },
    {
      "metadata": {
        "id": "DhVRjS8iUwEb",
        "colab_type": "code",
        "colab": {
          "base_uri": "https://localhost:8080/",
          "height": 538
        },
        "outputId": "22b4abd9-2381-4d62-c96f-b69c7ce243b2"
      },
      "cell_type": "code",
      "source": [
        "import gym\n",
        "from IPython import display\n",
        "import matplotlib.pyplot as plt\n",
        "%matplotlib inline\n",
        "\n",
        "env = gym.make('CartPole-v0')\n",
        "\n",
        "for n_episode in range (3):\n",
        "    observation = env.reset()\n",
        "    for t in range(100):\n",
        "        plt.imshow(env.render(mode='rgb_array'))\n",
        "        display.clear_output(wait=True)\n",
        "        display.display(plt.gcf())\n",
        "\n",
        "        action = env.action_space.sample() # アクションのランダム選択\n",
        "        observation, reward, done, info = env.step(action)\n",
        "        if done:\n",
        "            print(\"Episode {} finished after {} timesteps\".format(n_episode+1,t+1))\n",
        "            break"
      ],
      "execution_count": 3,
      "outputs": [
        {
          "output_type": "display_data",
          "data": {
            "image/png": "[encoded data removed]",
            "text/plain": [
              "<matplotlib.figure.Figure at 0x7f44af694fd0>"
            ]
          },
          "metadata": {
            "tags": []
          }
        },
        {
          "output_type": "stream",
          "text": [
            "Episode 3 finished after 10 timesteps\n"
          ],
          "name": "stdout"
        },
        {
          "output_type": "display_data",
          "data": {
            "image/png": "[encoded data removed]",
            "text/plain": [
              "<matplotlib.figure.Figure at 0x7f44af694fd0>"
            ]
          },
          "metadata": {
            "tags": []
          }
        }
      ]
    },
    {
      "metadata": {
        "id": "R9NzWP0KVY2C",
        "colab_type": "code",
        "colab": {
          "base_uri": "https://localhost:8080/",
          "height": 306
        },
        "outputId": "9e7f271e-9d8f-414b-fe64-6c055d68f981"
      },
      "cell_type": "code",
      "source": [
        "!nvidia-smi"
      ],
      "execution_count": 1,
      "outputs": [
        {
          "output_type": "stream",
          "text": [
            "Wed Oct 10 14:16:28 2018       \n",
            "+-----------------------------------------------------------------------------+\n",
            "| NVIDIA-SMI 384.111                Driver Version: 384.111                   |\n",
            "|-------------------------------+----------------------+----------------------+\n",
            "| GPU  Name        Persistence-M| Bus-Id        Disp.A | Volatile Uncorr. ECC |\n",
            "| Fan  Temp  Perf  Pwr:Usage/Cap|         Memory-Usage | GPU-Util  Compute M. |\n",
            "|===============================+======================+======================|\n",
            "|   0  Tesla K80           Off  | 00000000:00:04.0 Off |                    0 |\n",
            "| N/A   30C    P8    28W / 149W |      0MiB / 11439MiB |      0%      Default |\n",
            "+-------------------------------+----------------------+----------------------+\n",
            "                                                                               \n",
            "+-----------------------------------------------------------------------------+\n",
            "| Processes:                                                       GPU Memory |\n",
            "|  GPU       PID   Type   Process name                             Usage      |\n",
            "|=============================================================================|\n",
            "|  No running processes found                                                 |\n",
            "+-----------------------------------------------------------------------------+\n"
          ],
          "name": "stdout"
        }
      ]
    },
    {
      "metadata": {
        "id": "wbJla1z5XkfM",
        "colab_type": "code",
        "colab": {
          "base_uri": "https://localhost:8080/",
          "height": 547
        },
        "outputId": "bc4c0397-b8a9-43b5-ef36-47cd281b2e72"
      },
      "cell_type": "code",
      "source": [
        "!env"
      ],
      "execution_count": 2,
      "outputs": [
        {
          "output_type": "stream",
          "text": [
            "__EGL_VENDOR_LIBRARY_DIRS=/usr/lib64-nvidia\n",
            "LD_LIBRARY_PATH=/usr/lib64-nvidia\n",
            "_=/usr/bin/env\n",
            "LANG=en_US.UTF-8\n",
            "DATALAB_DEBUG=true\n",
            "HOSTNAME=e8ae701c2e0b\n",
            "OLDPWD=/\n",
            "CLOUDSDK_CONFIG=/content/.config\n",
            "DATALAB_SETTINGS_OVERRIDES={\"datalabBasePath\":\"/tun/m/gpu-113ri91brlvs7/\",\"kernelManagerProxyPort\":6000,\"kernelManagerProxyHost\":\"172.28.0.3\",\"jupyterArgs\":[\"notebook\",\"-y\",\"--no-browser\",\"--log-level=DEBUG\",\"--debug\",\"--NotebookApp.allow_origin=\\\"*\\\"\",\"--NotebookApp.log_format=\\\"%(message)s\\\"\",\"--NotebookApp.disable_check_xsrf=True\",\"--NotebookApp.token=\",\"--Session.key=\\\"\\\"\",\"--Session.keyfile=\\\"\\\"\",\"--ContentsManager.untitled_directory=\\\"Untitled Folder\\\"\",\"--ContentsManager.untitled_file=\\\"Untitled File\\\"\",\"--ContentsManager.untitled_notebook=\\\"Untitled Notebook\\\"\",\"--KernelManager.autorestart=True\",\"--ip=\\\"172.28.0.2\\\"\"]}\n",
            "ENV=/root/.bashrc\n",
            "PAGER=cat\n",
            "TF_FORCE_GPU_ALLOW_GROWTH=true\n",
            "DISABLE_COLAB_TF_IMPORT_HOOK=1\n",
            "JPY_PARENT_PID=56\n",
            "PWD=/content\n",
            "HOME=/root\n",
            "CLICOLOR=1\n",
            "DEBIAN_FRONTEND=noninteractive\n",
            "GLIBCPP_FORCE_NEW=1\n",
            "DATALAB_ENV=GCE\n",
            "TERM=xterm-color\n",
            "SHELL=/bin/bash\n",
            "MPLBACKEND=module://ipykernel.pylab.backend_inline\n",
            "SHLVL=2\n",
            "PYTHONPATH=/env/python\n",
            "COLAB_GPU=1\n",
            "GLIBCXX_FORCE_NEW=1\n",
            "PATH=/usr/local/bin:/usr/local/sbin:/usr/local/bin:/usr/sbin:/usr/bin:/sbin:/bin:/tools/node/bin:/tools/google-cloud-sdk/bin:/opt/bin\n",
            "LD_PRELOAD=/usr/lib/x86_64-linux-gnu/libtcmalloc.so.4\n",
            "GIT_PAGER=cat\n"
          ],
          "name": "stdout"
        }
      ]
    },
    {
      "metadata": {
        "id": "0Di_KS2fXrst",
        "colab_type": "code",
        "colab": {
          "base_uri": "https://localhost:8080/",
          "height": 2312
        },
        "outputId": "6f0124f1-3a10-495a-b8a6-2895369313a1"
      },
      "cell_type": "code",
      "source": [
        "!pip list"
      ],
      "execution_count": 6,
      "outputs": [
        {
          "output_type": "stream",
          "text": [
            "Package                  Version  \n",
            "------------------------ ---------\n",
            "absl-py                  0.5.0    \n",
            "altair                   2.2.2    \n",
            "astor                    0.7.1    \n",
            "beautifulsoup4           4.6.3    \n",
            "bleach                   2.1.4    \n",
            "cachetools               2.1.0    \n",
            "certifi                  2018.8.24\n",
            "chardet                  3.0.4    \n",
            "crcmod                   1.7      \n",
            "cycler                   0.10.0   \n",
            "cymem                    1.31.2   \n",
            "cytoolz                  0.9.0.1  \n",
            "decorator                4.3.0    \n",
            "defusedxml               0.5.0    \n",
            "dill                     0.2.8.2  \n",
            "entrypoints              0.2.3    \n",
            "future                   0.16.0   \n",
            "gast                     0.2.0    \n",
            "google-api-core          1.4.1    \n",
            "google-api-python-client 1.6.7    \n",
            "google-auth              1.4.2    \n",
            "google-auth-httplib2     0.0.3    \n",
            "google-auth-oauthlib     0.2.0    \n",
            "google-cloud-bigquery    1.1.0    \n",
            "google-cloud-core        0.28.1   \n",
            "google-cloud-language    1.0.2    \n",
            "google-cloud-storage     1.8.0    \n",
            "google-cloud-translate   1.3.1    \n",
            "google-colab             0.0.1a1  \n",
            "google-resumable-media   0.3.1    \n",
            "googleapis-common-protos 1.5.3    \n",
            "grpcio                   1.15.0   \n",
            "h5py                     2.8.0    \n",
            "html5lib                 1.0.1    \n",
            "httplib2                 0.11.3   \n",
            "idna                     2.6      \n",
            "ipykernel                4.6.1    \n",
            "ipython                  5.5.0    \n",
            "ipython-genutils         0.2.0    \n",
            "Jinja2                   2.10     \n",
            "joblib                   0.12.5   \n",
            "jsonschema               2.6.0    \n",
            "jupyter-client           5.2.3    \n",
            "jupyter-core             4.4.0    \n",
            "Keras                    2.1.6    \n",
            "Keras-Applications       1.0.6    \n",
            "Keras-Preprocessing      1.0.5    \n",
            "Markdown                 3.0.1    \n",
            "MarkupSafe               1.0      \n",
            "matplotlib               2.1.2    \n",
            "mistune                  0.8.3    \n",
            "mpmath                   1.0.0    \n",
            "msgpack                  0.5.6    \n",
            "msgpack-numpy            0.4.4.1  \n",
            "murmurhash               0.28.0   \n",
            "nbconvert                5.4.0    \n",
            "nbformat                 4.4.0    \n",
            "networkx                 2.2      \n",
            "nltk                     3.2.5    \n",
            "notebook                 5.2.2    \n",
            "numpy                    1.14.6   \n",
            "oauth2client             4.1.3    \n",
            "oauthlib                 2.1.0    \n",
            "olefile                  0.46     \n",
            "opencv-python            3.4.3.18 \n",
            "pandas                   0.22.0   \n",
            "pandas-gbq               0.4.1    \n",
            "pandocfilters            1.4.2    \n",
            "patsy                    0.5.0    \n",
            "pexpect                  4.6.0    \n",
            "pickleshare              0.7.5    \n",
            "Pillow                   4.0.0    \n",
            "pip                      18.0     \n",
            "plac                     0.9.6    \n",
            "plotly                   1.12.12  \n",
            "pluggy                   0.7.1    \n",
            "portpicker               1.2.0    \n",
            "preshed                  1.0.1    \n",
            "prompt-toolkit           1.0.15   \n",
            "protobuf                 3.6.1    \n",
            "psutil                   5.4.7    \n",
            "ptyprocess               0.6.0    \n",
            "py                       1.6.0    \n",
            "pyasn1                   0.4.4    \n",
            "pyasn1-modules           0.2.2    \n",
            "Pygments                 2.1.3    \n",
            "pymc3                    3.5      \n",
            "pyparsing                2.2.1    \n",
            "pystache                 0.5.4    \n",
            "python-dateutil          2.5.3    \n",
            "pytz                     2018.5   \n",
            "PyWavelets               1.0.1    \n",
            "PyYAML                   3.13     \n",
            "pyzmq                    16.0.4   \n",
            "regex                    2017.4.5 \n",
            "requests                 2.18.4   \n",
            "requests-oauthlib        1.0.0    \n",
            "rsa                      4.0      \n",
            "scikit-image             0.13.1   \n",
            "scikit-learn             0.19.2   \n",
            "scipy                    0.19.1   \n",
            "seaborn                  0.7.1    \n",
            "setuptools               39.1.0   \n",
            "simplegeneric            0.8.1    \n",
            "six                      1.11.0   \n",
            "spacy                    2.0.12   \n",
            "statsmodels              0.8.0    \n",
            "sympy                    1.1.1    \n",
            "tensorboard              1.11.0   \n",
            "tensorflow               1.11.0   \n",
            "tensorflow-hub           0.1.1    \n",
            "termcolor                1.1.0    \n",
            "terminado                0.8.1    \n",
            "testpath                 0.4.1    \n",
            "Theano                   1.0.3    \n",
            "thinc                    6.10.3   \n",
            "toml                     0.9.6    \n",
            "toolz                    0.9.0    \n",
            "tornado                  4.5.3    \n",
            "tqdm                     4.26.0   \n",
            "traitlets                4.3.2    \n",
            "typing                   3.6.6    \n",
            "ujson                    1.35     \n",
            "uritemplate              3.0.0    \n",
            "urllib3                  1.22     \n",
            "vega-datasets            0.5.0    \n",
            "virtualenv               16.0.0   \n",
            "wcwidth                  0.1.7    \n",
            "webencodings             0.5.1    \n",
            "Werkzeug                 0.14.1   \n",
            "wheel                    0.31.1   \n",
            "wrapt                    1.10.11  \n",
            "xgboost                  0.7.post4\n"
          ],
          "name": "stdout"
        }
      ]
    }
  ]
}